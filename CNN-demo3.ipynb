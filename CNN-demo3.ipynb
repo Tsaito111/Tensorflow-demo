{
 "cells": [
  {
   "cell_type": "code",
   "execution_count": 5,
   "id": "e9ffd2a7",
   "metadata": {},
   "outputs": [
    {
     "name": "stdout",
     "output_type": "stream",
     "text": [
      "Extracting MNIST_data/train-images-idx3-ubyte.gz\n",
      "Extracting MNIST_data/train-labels-idx1-ubyte.gz\n",
      "Extracting MNIST_data/t10k-images-idx3-ubyte.gz\n",
      "Extracting MNIST_data/t10k-labels-idx1-ubyte.gz\n",
      "INFO:tensorflow:Restoring parameters from models/my-model\n",
      "test accuracy 0.86\n"
     ]
    }
   ],
   "source": [
    "# coding: UTF-8\n",
    "import tensorflow as tf\n",
    "from tensorflow.examples.tutorials.mnist import input_data\n",
    "\n",
    "# MNISTデータ\n",
    "mnist = input_data.read_data_sets(\"MNIST_data/\", one_hot=True)\n",
    "\n",
    "# モデルの読み込み\n",
    "saver = tf.train.import_meta_graph('models/my-model.meta')\n",
    "\n",
    "# データフローグラフからプレースホルダーと精度測定処理ノードを取得\n",
    "graph = tf.get_default_graph()\n",
    "x = graph.get_tensor_by_name('x:0')\n",
    "labels = graph.get_tensor_by_name('labels:0')\n",
    "p_1 = graph.get_tensor_by_name('p_1:0')\n",
    "p_2 = graph.get_tensor_by_name('p_2:0')\n",
    "accuracy = graph.get_tensor_by_name('accuracy:0')\n",
    "\n",
    "with tf.Session() as sess:\n",
    "  # 変数初期化\n",
    "  sess.run(tf.global_variables_initializer())\n",
    "\n",
    "  # モデル読み込み\n",
    "  saver.restore(sess, 'models/my-model')\n",
    "\n",
    "  # テストデータによる精度検証\n",
    "  test_accuracy = accuracy.eval(feed_dict={x: mnist.test.images, labels: mnist.test.labels, p_1: 1.0, p_2: 1.0})\n",
    "  print('test accuracy {:.2f}'.format(test_accuracy))"
   ]
  },
  {
   "cell_type": "code",
   "execution_count": null,
   "id": "dd603354",
   "metadata": {},
   "outputs": [],
   "source": []
  }
 ],
 "metadata": {
  "kernelspec": {
   "display_name": "Python 3",
   "language": "python",
   "name": "python3"
  },
  "language_info": {
   "codemirror_mode": {
    "name": "ipython",
    "version": 3
   },
   "file_extension": ".py",
   "mimetype": "text/x-python",
   "name": "python",
   "nbconvert_exporter": "python",
   "pygments_lexer": "ipython3",
   "version": "3.6.13"
  }
 },
 "nbformat": 4,
 "nbformat_minor": 5
}
